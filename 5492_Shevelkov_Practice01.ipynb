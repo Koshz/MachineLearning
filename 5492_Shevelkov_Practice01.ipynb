{
 "cells": [
  {
   "cell_type": "markdown",
   "metadata": {},
   "source": [
    "MASSIVE SECTION:"
   ]
  },
  {
   "cell_type": "code",
   "execution_count": 2,
   "metadata": {},
   "outputs": [],
   "source": [
    "import numpy as np\n",
    "# Самый просто способ создать массив numpy - взять уже существующий list и передать в функцию np.array()\n",
    "arr_1d = np.array([1, 2, 3])"
   ]
  },
  {
   "cell_type": "code",
   "execution_count": 3,
   "metadata": {},
   "outputs": [
    {
     "name": "stdout",
     "output_type": "stream",
     "text": [
      "[1 2 3]\n",
      "<class 'numpy.ndarray'>\n",
      "(3,)\n",
      "1\n",
      "3\n",
      "3\n"
     ]
    }
   ],
   "source": [
    "# Теперь проверим \n",
    "#   - тип объекта c помощью функции type()\n",
    "#   - размерность с помощью аттрибута .shape\n",
    "#   - доступ по индексам, как у обычного list\n",
    "\n",
    "# Для отладки можно выводить небольшие массивы прямо через print()\n",
    "\n",
    "print(arr_1d)\n",
    "print(type(arr_1d))\n",
    "print(arr_1d.shape)\n",
    "print(arr_1d[0])\n",
    "print(arr_1d[2])\n",
    "print(arr_1d[-1])"
   ]
  },
  {
   "cell_type": "code",
   "execution_count": 4,
   "metadata": {},
   "outputs": [],
   "source": [
    "arr_2d = np.array([[1, 2, 3], [4, 5, 6]])"
   ]
  },
  {
   "cell_type": "code",
   "execution_count": 5,
   "metadata": {},
   "outputs": [
    {
     "name": "stdout",
     "output_type": "stream",
     "text": [
      "[[1 2 3]\n",
      " [4 5 6]]\n",
      "<class 'numpy.ndarray'>\n",
      "(2, 3)\n",
      "1\n",
      "6\n",
      "4\n"
     ]
    }
   ],
   "source": [
    "print(arr_2d)\n",
    "print(type(arr_2d))\n",
    "print(arr_2d.shape)\n",
    "print(arr_2d[0, 0])\n",
    "print(arr_2d[1, 2])\n",
    "print(arr_2d[1, 0])"
   ]
  },
  {
   "cell_type": "code",
   "execution_count": 6,
   "metadata": {},
   "outputs": [
    {
     "data": {
      "text/plain": [
       "array([[0., 0., 0.],\n",
       "       [0., 0., 0.],\n",
       "       [0., 0., 0.],\n",
       "       [0., 0., 0.],\n",
       "       [0., 0., 0.]])"
      ]
     },
     "execution_count": 6,
     "metadata": {},
     "output_type": "execute_result"
    }
   ],
   "source": [
    "# Создание массива фиксированного размера\n",
    "np.ndarray((5, 3))"
   ]
  },
  {
   "cell_type": "code",
   "execution_count": 7,
   "metadata": {},
   "outputs": [
    {
     "data": {
      "text/plain": [
       "array([[0., 0., 0.],\n",
       "       [0., 0., 0.]])"
      ]
     },
     "execution_count": 7,
     "metadata": {},
     "output_type": "execute_result"
    }
   ],
   "source": [
    "np.zeros((2, 3))"
   ]
  },
  {
   "cell_type": "code",
   "execution_count": 8,
   "metadata": {},
   "outputs": [
    {
     "data": {
      "text/plain": [
       "array([[1., 1.],\n",
       "       [1., 1.],\n",
       "       [1., 1.]])"
      ]
     },
     "execution_count": 8,
     "metadata": {},
     "output_type": "execute_result"
    }
   ],
   "source": [
    "np.ones((3, 2))"
   ]
  },
  {
   "cell_type": "code",
   "execution_count": 9,
   "metadata": {},
   "outputs": [
    {
     "data": {
      "text/plain": [
       "array([[5, 5, 5, 5],\n",
       "       [5, 5, 5, 5],\n",
       "       [5, 5, 5, 5]])"
      ]
     },
     "execution_count": 9,
     "metadata": {},
     "output_type": "execute_result"
    }
   ],
   "source": [
    "np.full((3, 4), 5)"
   ]
  },
  {
   "cell_type": "code",
   "execution_count": 10,
   "metadata": {},
   "outputs": [
    {
     "data": {
      "text/plain": [
       "array([[0, 0, 0],\n",
       "       [0, 0, 0]])"
      ]
     },
     "execution_count": 10,
     "metadata": {},
     "output_type": "execute_result"
    }
   ],
   "source": [
    "arr_2d = np.array([[1, 2, 3], [4, 5, 6]])\n",
    "\n",
    "np.zeros_like(arr_2d)"
   ]
  },
  {
   "cell_type": "code",
   "execution_count": 12,
   "metadata": {},
   "outputs": [
    {
     "data": {
      "text/plain": [
       "array([[0.46204315, 0.34210909],\n",
       "       [0.85977557, 0.80796348]])"
      ]
     },
     "execution_count": 12,
     "metadata": {},
     "output_type": "execute_result"
    }
   ],
   "source": [
    "# Создание массива со случайными значениями в интервале [0; 1.0)\n",
    "np.random.random((2,2))"
   ]
  },
  {
   "cell_type": "code",
   "execution_count": 13,
   "metadata": {},
   "outputs": [
    {
     "data": {
      "text/plain": [
       "array([1. , 2.5, 4. , 5.5, 7. , 8.5])"
      ]
     },
     "execution_count": 13,
     "metadata": {},
     "output_type": "execute_result"
    }
   ],
   "source": [
    "np.arange(start=1, stop=10, step=1.5)"
   ]
  },
  {
   "cell_type": "code",
   "execution_count": 14,
   "metadata": {},
   "outputs": [
    {
     "data": {
      "text/plain": [
       "array([1.        , 1.11111111, 1.22222222, 1.33333333, 1.44444444,\n",
       "       1.55555556, 1.66666667, 1.77777778, 1.88888889, 2.        ])"
      ]
     },
     "execution_count": 14,
     "metadata": {},
     "output_type": "execute_result"
    }
   ],
   "source": [
    "# Также создание диапазона значений, но уже с заданием количества элементов\n",
    "# (*) stop уже входит в создаваемый диапазон\n",
    "np.linspace(start=1, stop=2, num=10)"
   ]
  },
  {
   "cell_type": "markdown",
   "metadata": {},
   "source": [
    "INDEX SECTION:"
   ]
  },
  {
   "cell_type": "code",
   "execution_count": 15,
   "metadata": {},
   "outputs": [],
   "source": [
    "# Для начала на простом списке (1D массива)\n",
    "# Следующее создание массива можно заменить list(range(1, 11))\n",
    "arr = [1, 2, 3, 4, 5, 6, 7, 8, 9, 10]"
   ]
  },
  {
   "cell_type": "code",
   "execution_count": 16,
   "metadata": {},
   "outputs": [
    {
     "name": "stdout",
     "output_type": "stream",
     "text": [
      "1\n",
      "9\n",
      "6\n"
     ]
    }
   ],
   "source": [
    "# Простая индексация\n",
    "print(arr[0])\n",
    "print(arr[-2])\n",
    "print(arr[5])"
   ]
  },
  {
   "cell_type": "code",
   "execution_count": 17,
   "metadata": {},
   "outputs": [
    {
     "name": "stdout",
     "output_type": "stream",
     "text": [
      "[3, 5, 7]\n"
     ]
    }
   ],
   "source": [
    "# Получение части массива от 2го элемента до 6го (не включительно) \n",
    "#   с шагом 2 \n",
    "print(arr[2:8:2])"
   ]
  },
  {
   "cell_type": "code",
   "execution_count": 19,
   "metadata": {},
   "outputs": [
    {
     "name": "stdout",
     "output_type": "stream",
     "text": [
      "[3, 4, 5, 6, 7, 8]\n"
     ]
    }
   ],
   "source": [
    "#Если шаг не задан, то он равен единице (при этом второй раз : не пишется)\n",
    "print(arr[2:8])"
   ]
  },
  {
   "cell_type": "code",
   "execution_count": 20,
   "metadata": {},
   "outputs": [
    {
     "name": "stdout",
     "output_type": "stream",
     "text": [
      "[9, 8, 7, 6, 5, 4]\n"
     ]
    }
   ],
   "source": [
    "# Шаг может быть и отрицательным (индексы меняются местами)\n",
    "print(arr[8:2:-1])"
   ]
  },
  {
   "cell_type": "code",
   "execution_count": 21,
   "metadata": {},
   "outputs": [
    {
     "name": "stdout",
     "output_type": "stream",
     "text": [
      "[3, 4, 5, 6, 7, 8, 9, 10]\n",
      "[1, 2, 3, 4, 5, 6, 7, 8]\n"
     ]
    }
   ],
   "source": [
    "# Если не задавать index_start или index_end, \n",
    "#   то они будут равны индексу начала и конца массива\n",
    "print(arr[2:])\n",
    "print(arr[:8])"
   ]
  },
  {
   "cell_type": "code",
   "execution_count": 22,
   "metadata": {},
   "outputs": [
    {
     "name": "stdout",
     "output_type": "stream",
     "text": [
      "[3, 5, 7, 9]\n",
      "[1, 4, 7]\n"
     ]
    }
   ],
   "source": [
    "# Можно комбинировать один из индексов и шаг\n",
    "print(arr[2::2])\n",
    "print(arr[:8:3])"
   ]
  },
  {
   "cell_type": "code",
   "execution_count": 23,
   "metadata": {},
   "outputs": [
    {
     "name": "stdout",
     "output_type": "stream",
     "text": [
      "[1, 1, 2, 3, 4, 6, 7, 8, 9, 10]\n"
     ]
    }
   ],
   "source": [
    "# И не забываем, что все трюки работают и на запись\n",
    "new_arr = list(range(1, 11))\n",
    "\n",
    "new_arr[1:5] = arr[:4]\n",
    "print(new_arr)"
   ]
  },
  {
   "cell_type": "code",
   "execution_count": 24,
   "metadata": {},
   "outputs": [
    {
     "name": "stdout",
     "output_type": "stream",
     "text": [
      "[1, 2, 3, 4, 5, 6, 7, 8, 9, 10]\n"
     ]
    }
   ],
   "source": [
    "# Не самая полезная, но все же запись (получить весь диапазон)\n",
    "print(arr[:])"
   ]
  },
  {
   "cell_type": "markdown",
   "metadata": {},
   "source": [
    "ЗАДАНИЕ 1: Объясните результат операции:"
   ]
  },
  {
   "cell_type": "code",
   "execution_count": 35,
   "metadata": {},
   "outputs": [
    {
     "name": "stdout",
     "output_type": "stream",
     "text": [
      "[10, 8]\n"
     ]
    }
   ],
   "source": [
    "print(arr[:5:-2])"
   ]
  },
  {
   "cell_type": "markdown",
   "metadata": {},
   "source": [
    "Выводим массив начиная с конца, т.к. исполузется шаг -2, до 5 элемента массива (5 не включается) т.е. 9 и 7 элементы."
   ]
  },
  {
   "cell_type": "markdown",
   "metadata": {},
   "source": [
    "ЗАДАНИЕ 2: Получите массив без первого и двух последних элементов:"
   ]
  },
  {
   "cell_type": "code",
   "execution_count": 40,
   "metadata": {},
   "outputs": [
    {
     "name": "stdout",
     "output_type": "stream",
     "text": [
      "[0, 1, 2, 3, 4, 5, 6, 7, 8, 9]\n",
      "[9, 8, 7, 6, 5, 4, 3, 2, 1, 0]\n"
     ]
    }
   ],
   "source": [
    "data = list(range(10))\n",
    "print(data)\n",
    "print(data[::-1])"
   ]
  },
  {
   "cell_type": "markdown",
   "metadata": {},
   "source": [
    "ЗАДАНИЕ 3: Получите массив без первого и двух последних элементов:"
   ]
  },
  {
   "cell_type": "code",
   "execution_count": 45,
   "metadata": {},
   "outputs": [
    {
     "name": "stdout",
     "output_type": "stream",
     "text": [
      "[0, 1, 2, 3, 4, 5, 6, 7, 8, 9]\n",
      "[1, 2, 3, 4, 5, 6, 7]\n"
     ]
    }
   ],
   "source": [
    "data = list(range(10))\n",
    "print(data)\n",
    "print(data[1:8])\n",
    "# TODO - [1, 2, 3, 4, 5, 6, 7]"
   ]
  },
  {
   "cell_type": "markdown",
   "metadata": {},
   "source": [
    "INDEXATION IN MATRIX SECTION:"
   ]
  },
  {
   "cell_type": "code",
   "execution_count": 5,
   "metadata": {},
   "outputs": [
    {
     "name": "stdout",
     "output_type": "stream",
     "text": [
      "[[ 1  2  3  4]\n",
      " [ 5  6  7  8]\n",
      " [ 9 10 11 12]]\n"
     ]
    }
   ],
   "source": [
    "arr = np.array([[1, 2, 3, 4], [5, 6, 7, 8], [9, 10, 11, 12]])\n",
    "print(arr)"
   ]
  },
  {
   "cell_type": "code",
   "execution_count": 8,
   "metadata": {},
   "outputs": [
    {
     "name": "stdout",
     "output_type": "stream",
     "text": [
      "[ 9 10 11 12]\n",
      "[ 9 10 11 12]\n"
     ]
    }
   ],
   "source": [
    "# Получим вторую строку массива\n",
    "print(arr[2])\n",
    "print(arr[2, :])"
   ]
  },
  {
   "cell_type": "markdown",
   "metadata": {},
   "source": [
    "-Третью, если быть точнее, хотя если считать с нуля, то конечно вторую. Но это больше по python-новски, нежели по-русски. Хотя, в целом, курс и предполагает...-"
   ]
  },
  {
   "cell_type": "code",
   "execution_count": 11,
   "metadata": {},
   "outputs": [
    {
     "name": "stdout",
     "output_type": "stream",
     "text": [
      "[ 2  6 10]\n",
      "[1 5 9]\n"
     ]
    }
   ],
   "source": [
    "# Получим первую колонку массива\n",
    "print(arr[:, 1])\n",
    "print(arr[:, 0])"
   ]
  },
  {
   "cell_type": "code",
   "execution_count": 10,
   "metadata": {},
   "outputs": [
    {
     "name": "stdout",
     "output_type": "stream",
     "text": [
      "[5 6]\n"
     ]
    }
   ],
   "source": [
    "# Получить первые два элемента (первые две колонки) первого ряда\n",
    "print(arr[1, :2])"
   ]
  },
  {
   "cell_type": "markdown",
   "metadata": {},
   "source": [
    "-А вот это вызывает у меня смятение. Возможно, правда, я чего - то не понял.-\n",
    "\n",
    "-UPD: Понял, не учел, что \"первый\" это \"второй\", и последовательность до второго означает, что записываем нулевой и первый, а второй не включаем. Phew :)-"
   ]
  },
  {
   "cell_type": "code",
   "execution_count": 14,
   "metadata": {},
   "outputs": [
    {
     "name": "stdout",
     "output_type": "stream",
     "text": [
      "[[ 1  2  3  4]\n",
      " [ 5  6  7  8]\n",
      " [ 9 10 11 12]]\n",
      "[[1 2 3 4]\n",
      " [5 6 7 8]\n",
      " [5 6 7 8]]\n"
     ]
    }
   ],
   "source": [
    "# Можно повторять целые части массива\n",
    "#   (но при этом должны соотноситься размерности)\n",
    "# ndarray.copy() - функция копирования массива\n",
    "# Копируем, чтобы не изменить оригинальный\n",
    "new_arr = arr.copy()\n",
    "print(arr)\n",
    "\n",
    "new_arr[2, :] = arr[1, :]\n",
    "print(new_arr)"
   ]
  },
  {
   "cell_type": "code",
   "execution_count": 15,
   "metadata": {},
   "outputs": [
    {
     "name": "stdout",
     "output_type": "stream",
     "text": [
      "[[1 2]\n",
      " [5 6]]\n",
      "(2, 2)\n"
     ]
    }
   ],
   "source": [
    "# При этом, такая индексация - это новый массив со своей размерностью.\n",
    "print(arr[:2, :2])\n",
    "print(arr[:2, :2].shape)"
   ]
  },
  {
   "cell_type": "code",
   "execution_count": 16,
   "metadata": {},
   "outputs": [
    {
     "name": "stdout",
     "output_type": "stream",
     "text": [
      "[[ 1  4]\n",
      " [ 5  8]\n",
      " [ 9 12]]\n"
     ]
    }
   ],
   "source": [
    "# В качестве индексов можно также задавать другие массивы\n",
    "# Получаем первую и последнюю колонки\n",
    "print(arr[:, [0, -1]])"
   ]
  },
  {
   "cell_type": "code",
   "execution_count": 17,
   "metadata": {},
   "outputs": [
    {
     "name": "stdout",
     "output_type": "stream",
     "text": [
      "[[ 9 10 11 12]\n",
      " [ 1  2  3  4]\n",
      " [ 5  6  7  8]]\n"
     ]
    }
   ],
   "source": [
    "# И таким образом никто не заставляет писать в том же порядке индексы\n",
    "# Перемешаем ряды\n",
    "print(arr[[2, 0, 1], :])"
   ]
  },
  {
   "cell_type": "code",
   "execution_count": 18,
   "metadata": {},
   "outputs": [
    {
     "name": "stdout",
     "output_type": "stream",
     "text": [
      "[10  4]\n",
      "10 4\n"
     ]
    }
   ],
   "source": [
    "# Также, можно комбинировать способы задания\n",
    "print(arr[[2, 0], [1, 3]])\n",
    "# То же самое, только первая запись дает массив\n",
    "print(arr[2, 1], arr[0, 3])"
   ]
  },
  {
   "cell_type": "code",
   "execution_count": 20,
   "metadata": {},
   "outputs": [
    {
     "name": "stdout",
     "output_type": "stream",
     "text": [
      "[0, 1, 2]\n",
      "[2, 1, 0]\n",
      "----------------\n",
      "[[ 9 10 11 12]\n",
      " [ 5  6  7  8]\n",
      " [ 1  2  3  4]]\n"
     ]
    }
   ],
   "source": [
    "# Создаем список возможных индексов для рядов массива\n",
    "row_indices = list(range(arr.shape[0]))\n",
    "print(row_indices)\n",
    "\n",
    "# Переворачиваем его\n",
    "row_indices = list(reversed(row_indices))\n",
    "print(row_indices)\n",
    "\n",
    "# Используем для индексации\n",
    "print('----------------')\n",
    "print(arr[row_indices])"
   ]
  },
  {
   "cell_type": "markdown",
   "metadata": {},
   "source": [
    "ЗАДАНИЕ 4: Получите массив без крайних рядов и колонок (по одной с каждой стороны)"
   ]
  },
  {
   "cell_type": "code",
   "execution_count": 33,
   "metadata": {},
   "outputs": [
    {
     "name": "stdout",
     "output_type": "stream",
     "text": [
      "[[1 0 8 4 9 5]\n",
      " [0 1 4 0 3 4]\n",
      " [9 9 1 8 2 4]\n",
      " [1 3 3 4 6 0]\n",
      " [8 7 5 7 4 2]]\n",
      "----------------\n",
      "[[1 4 0 3]\n",
      " [9 1 8 2]\n",
      " [3 3 4 6]]\n",
      "----------------\n"
     ]
    }
   ],
   "source": [
    "data = np.random.randint(low=0, high=10, size=(5, 6))\n",
    "print(data)\n",
    "print('----------------')\n",
    "print(data[1:-1,1:-1])\n",
    "print('----------------')\n"
   ]
  },
  {
   "cell_type": "markdown",
   "metadata": {},
   "source": [
    "ЗАДАНИЕ 5: Произведите перемешивание колонок с помощью функции numpy.random.permutation():"
   ]
  },
  {
   "cell_type": "code",
   "execution_count": 49,
   "metadata": {},
   "outputs": [
    {
     "name": "stdout",
     "output_type": "stream",
     "text": [
      "[[7 8 3 4 7 4]\n",
      " [1 1 6 6 0 9]\n",
      " [1 3 1 8 9 2]]\n",
      "----------------\n",
      "[0, 1, 2, 3, 4, 5]\n",
      "----------------\n",
      "[4 2 0 1 3 5]\n",
      "----------------\n",
      "[[7 3 7 8 4 4]\n",
      " [0 6 1 1 6 9]\n",
      " [9 1 1 3 8 2]]\n",
      "----------------\n"
     ]
    }
   ],
   "source": [
    "data = np.random.randint(low=0, high=10, size=(3, 6))\n",
    "print(data)\n",
    "print('----------------')\n",
    "col_ind = list(range(data.shape[1]))\n",
    "print(col_ind)\n",
    "print('----------------')\n",
    "new_col_ind = np.random.permutation(col_ind)\n",
    "print(new_col_ind)\n",
    "print('----------------')\n",
    "print(data[:, new_col_ind])\n",
    "print('----------------')"
   ]
  },
  {
   "cell_type": "markdown",
   "metadata": {},
   "source": [
    "TYPES OF DATA IN MASSIVES SECTION:"
   ]
  },
  {
   "cell_type": "code",
   "execution_count": 50,
   "metadata": {},
   "outputs": [
    {
     "name": "stdout",
     "output_type": "stream",
     "text": [
      "int32\n"
     ]
    }
   ],
   "source": [
    "# Создадим массив без задания типа - тип будет определен автоматически\n",
    "arr = np.array([[1, 2, 3, 4], [5, 6, 7, 8], [9, 10, 11, 12]])\n",
    "print(arr.dtype)\n",
    "\n",
    "# int, так как все элементы являются целочисленными"
   ]
  },
  {
   "cell_type": "code",
   "execution_count": 51,
   "metadata": {},
   "outputs": [
    {
     "name": "stdout",
     "output_type": "stream",
     "text": [
      "float64\n"
     ]
    }
   ],
   "source": [
    "# Изменим один элемент на вещественный\n",
    "arr = np.array([[1.5, 2, 3, 4], [5, 6, 7, 8], [9, 10, 11, 12]])\n",
    "print(arr.dtype)\n",
    "\n",
    "# Один из элементов float, поэтому весь массив будет float"
   ]
  },
  {
   "cell_type": "code",
   "execution_count": 52,
   "metadata": {},
   "outputs": [
    {
     "name": "stdout",
     "output_type": "stream",
     "text": [
      "[[ 1  1  2]\n",
      " [-1  2 -1]]\n",
      "int32\n"
     ]
    }
   ],
   "source": [
    "# Зададим явно тип массива\n",
    "# Хоть массив и содержит вещественные числа\n",
    "# мы создаем массив целочисленных, что приводит\n",
    "# к округлению\n",
    "arr = np.array([[1.1, 1.6, 2.4], [-1.7, 2.6, -1.2]], dtype=int)\n",
    "print(arr)\n",
    "print(arr.dtype)"
   ]
  },
  {
   "cell_type": "code",
   "execution_count": 53,
   "metadata": {},
   "outputs": [
    {
     "name": "stdout",
     "output_type": "stream",
     "text": [
      "[[ 1.1  1.6  2.4]\n",
      " [-1.7  2.6 -1.2]]\n",
      "float64\n",
      "----------\n",
      "[[ 1  1  2]\n",
      " [-1  2 -1]]\n",
      "int32\n"
     ]
    }
   ],
   "source": [
    "# Создаем массив вещественных\n",
    "arr = np.array([[1.1, 1.6, 2.4], [-1.7, 2.6, -1.2]])\n",
    "print(arr)\n",
    "print(arr.dtype)\n",
    "print('----------')\n",
    "# Но в какой-то момент нам нужно привести массив к целочисленным\n",
    "# Воспользуемся методом ndarray.astype()\n",
    "arr = arr.astype(int)\n",
    "print(arr)\n",
    "print(arr.dtype)"
   ]
  },
  {
   "cell_type": "code",
   "execution_count": 54,
   "metadata": {},
   "outputs": [
    {
     "name": "stdout",
     "output_type": "stream",
     "text": [
      "[[ 1  1  2]\n",
      " [-1  2 -1]]\n",
      "[[ 1 10  2]\n",
      " [-1  2 -1]]\n"
     ]
    }
   ],
   "source": [
    "# При этом попытки записать в целочисленный массив \n",
    "# вещественное число приводят к округлению\n",
    "arr = np.array([[1.1, 1.6, 2.4], [-1.7, 2.6, -1.2]], dtype=int)\n",
    "print(arr)\n",
    "\n",
    "arr[0, 1] = 10.12\n",
    "print(arr)"
   ]
  },
  {
   "cell_type": "markdown",
   "metadata": {},
   "source": [
    "\n",
    "BOOLEAN OPERATIONS SECTION:\n"
   ]
  },
  {
   "cell_type": "code",
   "execution_count": 55,
   "metadata": {},
   "outputs": [
    {
     "name": "stdout",
     "output_type": "stream",
     "text": [
      "[[ 1  2  3  4]\n",
      " [ 5  6  7  8]\n",
      " [ 9 10 11 12]]\n"
     ]
    }
   ],
   "source": [
    "arr = np.array([[1, 2, 3, 4], [5, 6, 7, 8], [9, 10, 11, 12]])\n",
    "print(arr)"
   ]
  },
  {
   "cell_type": "code",
   "execution_count": 56,
   "metadata": {},
   "outputs": [
    {
     "name": "stdout",
     "output_type": "stream",
     "text": [
      "[[False False False False]\n",
      " [False False  True  True]\n",
      " [ True  True  True  True]]\n",
      "bool\n"
     ]
    }
   ],
   "source": [
    "# Произведем сравнение с числом\n",
    "result = arr > 6\n",
    "print(result)\n",
    "print(result.dtype)"
   ]
  },
  {
   "cell_type": "code",
   "execution_count": 57,
   "metadata": {},
   "outputs": [
    {
     "name": "stdout",
     "output_type": "stream",
     "text": [
      "[[False False False False]\n",
      " [False False  True  True]\n",
      " [ True  True  True  True]]\n",
      "[[ True  True  True  True]\n",
      " [ True  True  True  True]\n",
      " [ True False False False]]\n",
      "----------\n",
      "[[False False False False]\n",
      " [False False  True  True]\n",
      " [ True False False False]]\n",
      "[[False False False False]\n",
      " [False False  True  True]\n",
      " [ True False False False]]\n"
     ]
    }
   ],
   "source": [
    "result_1 = arr > 6\n",
    "result_2 = arr < 10\n",
    "print(result_1)\n",
    "print(result_2)\n",
    "\n",
    "print('----------')\n",
    "# Следующие две операции идентичны, но для второй скобки обязательны!\n",
    "print(result_1 & result_2)\n",
    "print((arr > 6) & (arr < 10))"
   ]
  },
  {
   "cell_type": "code",
   "execution_count": 91,
   "metadata": {},
   "outputs": [
    {
     "name": "stdout",
     "output_type": "stream",
     "text": [
      "[[ 1  2  3  4]\n",
      " [ 5  6  7  8]\n",
      " [ 9 10 11 12]]\n",
      "\n",
      "[[False False False False]\n",
      " [False  True  True False]\n",
      " [False False False False]]\n",
      "\n",
      "True\n"
     ]
    }
   ],
   "source": [
    "arr = np.array([[1, 2, 3, 4], [5, 6, 7, 8], [9, 10, 11, 12]])\n",
    "print(arr)\n",
    "print()\n",
    "print((arr > 5) & (arr < 8))\n",
    "print()\n",
    "answer = np.any((arr > 5) & (arr < 8))\n",
    "print(answer)"
   ]
  },
  {
   "cell_type": "markdown",
   "metadata": {},
   "source": [
    "\n",
    "MORE INDEXATION SECTION:\n"
   ]
  },
  {
   "cell_type": "code",
   "execution_count": 92,
   "metadata": {},
   "outputs": [],
   "source": [
    "arr = np.array([[1, 2, 3, 4], [5, 6, 7, 8], [9, 10, 11, 12]])"
   ]
  },
  {
   "cell_type": "code",
   "execution_count": 93,
   "metadata": {},
   "outputs": [
    {
     "name": "stdout",
     "output_type": "stream",
     "text": [
      "[[False False False False]\n",
      " [False False  True  True]\n",
      " [ True  True  True  True]]\n",
      "[ 7  8  9 10 11 12]\n"
     ]
    }
   ],
   "source": [
    "# Получим маску и воспользуемся ею для индексации\n",
    "mask = arr > 6\n",
    "print(mask)\n",
    "print(arr[mask])"
   ]
  },
  {
   "cell_type": "code",
   "execution_count": 94,
   "metadata": {},
   "outputs": [
    {
     "name": "stdout",
     "output_type": "stream",
     "text": [
      "[[1 2 3 4]\n",
      " [5 6 7 8]]\n",
      "[1 2 3 4 5 6 7 8]\n"
     ]
    }
   ],
   "source": [
    "arr = np.array([[1, 2, 3, 4], [5, 6, 7, 8]])\n",
    "print(arr)\n",
    "print(arr.flatten())"
   ]
  },
  {
   "cell_type": "markdown",
   "metadata": {},
   "source": [
    "\n",
    "MASSIVE OPERATIONS SECTION:\n"
   ]
  },
  {
   "cell_type": "code",
   "execution_count": 95,
   "metadata": {},
   "outputs": [],
   "source": [
    "x = np.array([[1,2],[3,4]], dtype=np.float64)\n",
    "y = np.array([[5,6],[7,8]], dtype=np.float64)"
   ]
  },
  {
   "cell_type": "code",
   "execution_count": 96,
   "metadata": {},
   "outputs": [
    {
     "name": "stdout",
     "output_type": "stream",
     "text": [
      "[[ 6.  8.]\n",
      " [10. 12.]]\n",
      "[[ 6.  8.]\n",
      " [10. 12.]]\n"
     ]
    }
   ],
   "source": [
    "# Сложение\n",
    "print(x + y)\n",
    "print(np.add(x, y))"
   ]
  },
  {
   "cell_type": "code",
   "execution_count": 97,
   "metadata": {},
   "outputs": [
    {
     "name": "stdout",
     "output_type": "stream",
     "text": [
      "[[-4. -4.]\n",
      " [-4. -4.]]\n",
      "[[-4. -4.]\n",
      " [-4. -4.]]\n"
     ]
    }
   ],
   "source": [
    "# Вычитание\n",
    "print(x - y)\n",
    "print(np.subtract(x, y))"
   ]
  },
  {
   "cell_type": "code",
   "execution_count": 98,
   "metadata": {},
   "outputs": [
    {
     "name": "stdout",
     "output_type": "stream",
     "text": [
      "[[ 5. 12.]\n",
      " [21. 32.]]\n",
      "[[ 5. 12.]\n",
      " [21. 32.]]\n"
     ]
    }
   ],
   "source": [
    "# Поэлементное умножение\n",
    "print(x * y)\n",
    "print(np.multiply(x, y))"
   ]
  },
  {
   "cell_type": "code",
   "execution_count": 99,
   "metadata": {},
   "outputs": [
    {
     "name": "stdout",
     "output_type": "stream",
     "text": [
      "[[0.2        0.33333333]\n",
      " [0.42857143 0.5       ]]\n",
      "[[0.2        0.33333333]\n",
      " [0.42857143 0.5       ]]\n"
     ]
    }
   ],
   "source": [
    "# Поэлементное деление\n",
    "print(x / y)\n",
    "print(np.divide(x, y))"
   ]
  },
  {
   "cell_type": "code",
   "execution_count": 100,
   "metadata": {},
   "outputs": [
    {
     "name": "stdout",
     "output_type": "stream",
     "text": [
      "[[1.         1.41421356]\n",
      " [1.73205081 2.        ]]\n"
     ]
    }
   ],
   "source": [
    "# Вычисление корня каждого элемента\n",
    "print(np.sqrt(x))"
   ]
  },
  {
   "cell_type": "code",
   "execution_count": 101,
   "metadata": {},
   "outputs": [
    {
     "name": "stdout",
     "output_type": "stream",
     "text": [
      "[[1.5 3. ]\n",
      " [4.5 6. ]]\n"
     ]
    }
   ],
   "source": [
    "# Умножение матрицы на скаляр - релизуется как поэлементное перемножение \n",
    "k = 1.5\n",
    "\n",
    "print(k*x)"
   ]
  },
  {
   "cell_type": "code",
   "execution_count": 102,
   "metadata": {},
   "outputs": [],
   "source": [
    "v = np.array([1, 2])"
   ]
  },
  {
   "cell_type": "code",
   "execution_count": 103,
   "metadata": {},
   "outputs": [
    {
     "name": "stdout",
     "output_type": "stream",
     "text": [
      "[ 5. 11.]\n",
      "[ 5. 11.]\n",
      "[ 5. 11.]\n"
     ]
    }
   ],
   "source": [
    "# Матричное умножение реализуется через оператор @ или функцию np.dot() \n",
    "#   или метод ndarray.dot()\n",
    "# Для умножения матрица-вектор\n",
    "\n",
    "print(x @ v)\n",
    "print(x.dot(v))\n",
    "print(np.dot(x, v))"
   ]
  },
  {
   "cell_type": "code",
   "execution_count": 104,
   "metadata": {},
   "outputs": [
    {
     "name": "stdout",
     "output_type": "stream",
     "text": [
      "11\n",
      "11\n",
      "11\n"
     ]
    }
   ],
   "source": [
    "# Двух векторов\n",
    "w = np.array([3, 4])\n",
    "\n",
    "print(w @ v)\n",
    "print(w.dot(v))\n",
    "print(np.dot(w, v))"
   ]
  },
  {
   "cell_type": "code",
   "execution_count": 105,
   "metadata": {},
   "outputs": [
    {
     "name": "stdout",
     "output_type": "stream",
     "text": [
      "[[19. 22.]\n",
      " [43. 50.]]\n",
      "[[19. 22.]\n",
      " [43. 50.]]\n",
      "[[19. 22.]\n",
      " [43. 50.]]\n"
     ]
    }
   ],
   "source": [
    "# Так и для перемножения матриц\n",
    "print(x @ y)\n",
    "print(x.dot(y))\n",
    "print(np.dot(x, y))"
   ]
  },
  {
   "cell_type": "code",
   "execution_count": 106,
   "metadata": {},
   "outputs": [
    {
     "name": "stdout",
     "output_type": "stream",
     "text": [
      "[[1 2 3]\n",
      " [4 5 6]]\n",
      "(2, 3)\n",
      "--------\n",
      "[[1 4]\n",
      " [2 5]\n",
      " [3 6]]\n",
      "[[1 4]\n",
      " [2 5]\n",
      " [3 6]]\n",
      "(3, 2)\n"
     ]
    }
   ],
   "source": [
    "# Для транспонирования можно воспользоваться атрибутом ndarray.T\n",
    "#   или функцией np.transpose()\n",
    "x = np.array([[1, 2, 3], [4, 5, 6]])\n",
    "print(x)\n",
    "print(x.shape)\n",
    "print('--------')\n",
    "print(np.transpose(x))\n",
    "print(x.T)\n",
    "print(x.T.shape)"
   ]
  },
  {
   "cell_type": "markdown",
   "metadata": {},
   "source": [
    "\n",
    "AXIS OPERATIONS SECTION:\n"
   ]
  },
  {
   "cell_type": "code",
   "execution_count": 108,
   "metadata": {},
   "outputs": [
    {
     "name": "stdout",
     "output_type": "stream",
     "text": [
      "[[1 2 3]\n",
      " [5 4 3]]\n"
     ]
    }
   ],
   "source": [
    "x = np.array([[1, 2, 3], [5, 4, 3]])\n",
    "print(x)"
   ]
  },
  {
   "cell_type": "code",
   "execution_count": 109,
   "metadata": {},
   "outputs": [
    {
     "name": "stdout",
     "output_type": "stream",
     "text": [
      "3.0\n",
      "3.0\n"
     ]
    }
   ],
   "source": [
    "# Возьмем среднее значение всего массива\n",
    "print(np.mean(x))\n",
    "print(np.mean(x, axis=None))"
   ]
  },
  {
   "cell_type": "code",
   "execution_count": 110,
   "metadata": {},
   "outputs": [
    {
     "name": "stdout",
     "output_type": "stream",
     "text": [
      "18\n",
      "18\n"
     ]
    }
   ],
   "source": [
    "# Получим сумму значений всего массива\n",
    "print(np.sum(x))\n",
    "print(np.sum(x, axis=None))"
   ]
  },
  {
   "cell_type": "code",
   "execution_count": 111,
   "metadata": {},
   "outputs": [
    {
     "name": "stdout",
     "output_type": "stream",
     "text": [
      "[3. 3. 3.]\n",
      "[2. 4.]\n"
     ]
    }
   ],
   "source": [
    "# Получим среднее по каждому столбцу\n",
    "print(np.mean(x, axis=0))\n",
    "\n",
    "# Получим среднее по каждой строке\n",
    "print(np.mean(x, axis=1))"
   ]
  },
  {
   "cell_type": "markdown",
   "metadata": {},
   "source": [
    "ЗАДАНИЕ 6: Напишите операцию получения суммы элементов по всем стобцам:"
   ]
  },
  {
   "cell_type": "code",
   "execution_count": 134,
   "metadata": {},
   "outputs": [
    {
     "name": "stdout",
     "output_type": "stream",
     "text": [
      "[[0 0 2 3 2 4]\n",
      " [3 4 4 2 0 2]\n",
      " [3 2 4 0 2 3]]\n",
      "\n",
      "[ 6  6 10  5  4  9]\n"
     ]
    }
   ],
   "source": [
    "data = np.random.randint(low=0, high=5, size=(3, 6))\n",
    "print(data)\n",
    "print()\n",
    "print(np.sum(data, axis=0))"
   ]
  },
  {
   "cell_type": "markdown",
   "metadata": {},
   "source": [
    "BROADCASTING SECTION:"
   ]
  },
  {
   "cell_type": "code",
   "execution_count": 135,
   "metadata": {},
   "outputs": [
    {
     "name": "stdout",
     "output_type": "stream",
     "text": [
      "[0 1 2 3]\n",
      "[[1. 1. 1. 1.]\n",
      " [1. 1. 1. 1.]\n",
      " [1. 1. 1. 1.]]\n"
     ]
    }
   ],
   "source": [
    "vec = np.arange(4)\n",
    "mtrx = np.ones((3, 4))\n",
    "print(vec)\n",
    "print(mtrx)"
   ]
  },
  {
   "cell_type": "code",
   "execution_count": 136,
   "metadata": {},
   "outputs": [
    {
     "name": "stdout",
     "output_type": "stream",
     "text": [
      "[[0. 1. 2. 3.]\n",
      " [0. 1. 2. 3.]\n",
      " [0. 1. 2. 3.]]\n"
     ]
    }
   ],
   "source": [
    "result = np.empty_like(mtrx)\n",
    "\n",
    "for i_row in range(mtrx.shape[0]):\n",
    "    result[i_row,:] = mtrx[i_row,:] * vec\n",
    "\n",
    "print(result)"
   ]
  },
  {
   "cell_type": "code",
   "execution_count": 137,
   "metadata": {},
   "outputs": [
    {
     "name": "stdout",
     "output_type": "stream",
     "text": [
      "[[0 1 2 3]\n",
      " [0 1 2 3]\n",
      " [0 1 2 3]]\n",
      "[[0. 1. 2. 3.]\n",
      " [0. 1. 2. 3.]\n",
      " [0. 1. 2. 3.]]\n"
     ]
    }
   ],
   "source": [
    "# Функция np.tile() повторяет массив то количество раз и по тем осям,\n",
    "#   которые заданы в аргументе reps\n",
    "vec_m = np.tile(vec, reps=(3, 1))\n",
    "print(vec_m)\n",
    "print(vec_m * mtrx)"
   ]
  },
  {
   "cell_type": "code",
   "execution_count": 138,
   "metadata": {},
   "outputs": [
    {
     "name": "stdout",
     "output_type": "stream",
     "text": [
      "[[0. 1. 2. 3.]\n",
      " [0. 1. 2. 3.]\n",
      " [0. 1. 2. 3.]]\n"
     ]
    }
   ],
   "source": [
    "# Умножение, используя броадкастинг\n",
    "print(vec * mtrx)"
   ]
  },
  {
   "cell_type": "code",
   "execution_count": 139,
   "metadata": {},
   "outputs": [
    {
     "name": "stdout",
     "output_type": "stream",
     "text": [
      "[[2. 2. 2. 2.]\n",
      " [2. 2. 2. 2.]\n",
      " [2. 2. 2. 2.]]\n"
     ]
    }
   ],
   "source": [
    "print(2 * mtrx)"
   ]
  },
  {
   "cell_type": "code",
   "execution_count": 140,
   "metadata": {},
   "outputs": [
    {
     "name": "stdout",
     "output_type": "stream",
     "text": [
      "(4, 3, 2)\n"
     ]
    }
   ],
   "source": [
    "x = np.ones((4, 1, 1))\n",
    "y = np.random.randint(0, 5, size=(4, 3, 2))\n",
    "\n",
    "print((x*y).shape)"
   ]
  },
  {
   "cell_type": "code",
   "execution_count": 141,
   "metadata": {},
   "outputs": [
    {
     "name": "stdout",
     "output_type": "stream",
     "text": [
      "(4, 3, 2)\n"
     ]
    }
   ],
   "source": [
    "x = np.ones((3, 1))\n",
    "y = np.random.randint(0, 5, size=(4, 3, 2))\n",
    "\n",
    "print((x*y).shape)"
   ]
  },
  {
   "cell_type": "code",
   "execution_count": 142,
   "metadata": {},
   "outputs": [
    {
     "name": "stdout",
     "output_type": "stream",
     "text": [
      "(5, 3, 2)\n"
     ]
    }
   ],
   "source": [
    "x = np.ones((1, 3, 2))\n",
    "y = np.random.randint(0, 5, size=(5, 1, 2))\n",
    "\n",
    "print((x*y).shape)"
   ]
  },
  {
   "cell_type": "markdown",
   "metadata": {},
   "source": [
    "RESHAPE SECTION:"
   ]
  },
  {
   "cell_type": "code",
   "execution_count": 143,
   "metadata": {},
   "outputs": [
    {
     "name": "stdout",
     "output_type": "stream",
     "text": [
      "[ 0  1  2  3  4  5  6  7  8  9 10 11 12 13 14 15 16 17 18 19]\n"
     ]
    }
   ],
   "source": [
    "arr = np.arange(20)\n",
    "print(arr)"
   ]
  },
  {
   "cell_type": "code",
   "execution_count": 144,
   "metadata": {},
   "outputs": [
    {
     "name": "stdout",
     "output_type": "stream",
     "text": [
      "[[ 0  1  2  3  4]\n",
      " [ 5  6  7  8  9]\n",
      " [10 11 12 13 14]\n",
      " [15 16 17 18 19]]\n"
     ]
    }
   ],
   "source": [
    "mtrx = np.ndarray((4, 5), dtype=np.int32)\n",
    "mtrx[0, :] = arr[:5]\n",
    "mtrx[1, :] = arr[5:10]\n",
    "mtrx[2, :] = arr[10:15]\n",
    "mtrx[3, :] = arr[15:]\n",
    "\n",
    "print(mtrx)"
   ]
  },
  {
   "cell_type": "code",
   "execution_count": 145,
   "metadata": {},
   "outputs": [
    {
     "name": "stdout",
     "output_type": "stream",
     "text": [
      "[[ 0  1  2  3  4]\n",
      " [ 5  6  7  8  9]\n",
      " [10 11 12 13 14]\n",
      " [15 16 17 18 19]]\n"
     ]
    }
   ],
   "source": [
    "print(arr.reshape((4, 5)))"
   ]
  },
  {
   "cell_type": "code",
   "execution_count": 146,
   "metadata": {},
   "outputs": [
    {
     "name": "stdout",
     "output_type": "stream",
     "text": [
      "[[ 0  1  2  3  4  5  6  7  8  9]\n",
      " [10 11 12 13 14 15 16 17 18 19]]\n",
      "[[ 0  1  2  3]\n",
      " [ 4  5  6  7]\n",
      " [ 8  9 10 11]\n",
      " [12 13 14 15]\n",
      " [16 17 18 19]]\n",
      "[[ 0]\n",
      " [ 1]\n",
      " [ 2]\n",
      " [ 3]\n",
      " [ 4]\n",
      " [ 5]\n",
      " [ 6]\n",
      " [ 7]\n",
      " [ 8]\n",
      " [ 9]\n",
      " [10]\n",
      " [11]\n",
      " [12]\n",
      " [13]\n",
      " [14]\n",
      " [15]\n",
      " [16]\n",
      " [17]\n",
      " [18]\n",
      " [19]]\n"
     ]
    }
   ],
   "source": [
    "print(arr.reshape((2, 10)))\n",
    "print(arr.reshape((5, 4)))\n",
    "print(arr.reshape((20, 1)))"
   ]
  },
  {
   "cell_type": "code",
   "execution_count": 147,
   "metadata": {},
   "outputs": [
    {
     "name": "stdout",
     "output_type": "stream",
     "text": [
      "[[ 0  1  2  3  4]\n",
      " [ 5  6  7  8  9]\n",
      " [10 11 12 13 14]\n",
      " [15 16 17 18 19]]\n"
     ]
    }
   ],
   "source": [
    "print(arr.reshape((4, -1)))"
   ]
  },
  {
   "cell_type": "markdown",
   "metadata": {},
   "source": [
    "UNITED SECTION:"
   ]
  },
  {
   "cell_type": "code",
   "execution_count": 148,
   "metadata": {},
   "outputs": [
    {
     "name": "stdout",
     "output_type": "stream",
     "text": [
      "[[0 1 2 3 4]\n",
      " [5 6 7 8 9]]\n",
      "[[ 0  1  2  3  4]\n",
      " [ 5  6  7  8  9]\n",
      " [10 11 12 13 14]]\n"
     ]
    }
   ],
   "source": [
    "x = np.arange(10).reshape((2, 5))\n",
    "y = np.arange(15).reshape((3, 5))\n",
    "\n",
    "print(x)\n",
    "print(y)"
   ]
  },
  {
   "cell_type": "code",
   "execution_count": 149,
   "metadata": {},
   "outputs": [
    {
     "name": "stdout",
     "output_type": "stream",
     "text": [
      "[[ 0  1  2  3  4]\n",
      " [ 5  6  7  8  9]\n",
      " [ 0  1  2  3  4]\n",
      " [ 5  6  7  8  9]\n",
      " [10 11 12 13 14]]\n"
     ]
    }
   ],
   "source": [
    "print(np.concatenate((x, y), axis=0))"
   ]
  },
  {
   "cell_type": "code",
   "execution_count": 150,
   "metadata": {},
   "outputs": [
    {
     "name": "stdout",
     "output_type": "stream",
     "text": [
      "[[0 1 2]\n",
      " [3 4 5]\n",
      " [6 7 8]]\n",
      "[[ 0  1  2  3]\n",
      " [ 4  5  6  7]\n",
      " [ 8  9 10 11]]\n",
      "[[ 0  1  2  3  4]\n",
      " [ 5  6  7  8  9]\n",
      " [10 11 12 13 14]]\n"
     ]
    }
   ],
   "source": [
    "x = np.arange(9).reshape((3, 3))\n",
    "y = np.arange(12).reshape((3, 4))\n",
    "z = np.arange(15).reshape((3, 5))\n",
    "\n",
    "print(x)\n",
    "print(y)\n",
    "print(z)"
   ]
  },
  {
   "cell_type": "markdown",
   "metadata": {},
   "source": [
    "ЗАДАНИЕ 7: Объедините три массива вдоль колонок:"
   ]
  },
  {
   "cell_type": "code",
   "execution_count": 151,
   "metadata": {},
   "outputs": [
    {
     "name": "stdout",
     "output_type": "stream",
     "text": [
      "[[ 0  1  2  0  1  2  3  0  1  2  3  4]\n",
      " [ 3  4  5  4  5  6  7  5  6  7  8  9]\n",
      " [ 6  7  8  8  9 10 11 10 11 12 13 14]]\n"
     ]
    }
   ],
   "source": [
    "print(np.concatenate((x, y, z), axis=1))"
   ]
  },
  {
   "cell_type": "markdown",
   "metadata": {},
   "source": [
    "ЗАДАНИЕ 8: Напишите реализацию добавления стобца единиц к матрице слева:"
   ]
  },
  {
   "cell_type": "code",
   "execution_count": 157,
   "metadata": {},
   "outputs": [
    {
     "name": "stdout",
     "output_type": "stream",
     "text": [
      "[[1 2 3]\n",
      " [4 5 6]\n",
      " [7 8 9]]\n",
      "\n",
      "[[1 1 2 3]\n",
      " [1 4 5 6]\n",
      " [1 7 8 9]]\n"
     ]
    }
   ],
   "source": [
    "x = np.arange(1, 10).reshape((3, 3))\n",
    "y = np.ones((3,1), dtype=int)\n",
    "print(x)\n",
    "print()\n",
    "print(np.concatenate((y, x), axis=1))"
   ]
  },
  {
   "cell_type": "markdown",
   "metadata": {},
   "source": [
    "SORTING SECTION:"
   ]
  },
  {
   "cell_type": "code",
   "execution_count": 158,
   "metadata": {},
   "outputs": [
    {
     "name": "stdout",
     "output_type": "stream",
     "text": [
      "[ 2  4  5  1  2  7  5  0 -1  3  5]\n",
      "[-1  0  1  2  2  3  4  5  5  5  7]\n"
     ]
    }
   ],
   "source": [
    "unsorted_arr = np.array([2, 4, 5, 1, 2, 7, 5, 0, -1, 3, 5])\n",
    "sorted_arr = np.sort(unsorted_arr)\n",
    "\n",
    "print(unsorted_arr)\n",
    "print(sorted_arr)"
   ]
  },
  {
   "cell_type": "code",
   "execution_count": 159,
   "metadata": {},
   "outputs": [
    {
     "name": "stdout",
     "output_type": "stream",
     "text": [
      "[ 8  7  3  0  4  9  1  2  6 10  5]\n",
      "[-1  0  1  2  2  3  4  5  5  5  7]\n"
     ]
    }
   ],
   "source": [
    "sorted_indices = np.argsort(unsorted_arr)\n",
    "print(sorted_indices)\n",
    "\n",
    "# А теперь воспользуемся индексами и отобразим исходный массив с индексацией\n",
    "print(unsorted_arr[sorted_indices])"
   ]
  },
  {
   "cell_type": "markdown",
   "metadata": {},
   "source": [
    "ЗАДАНИЕ 9: По такому же принципу именования найдите функцию, которая возвращает индекс максимального/минимального (в завимости от варианта) элемента в массиве.\n",
    "\n",
    "Воспользуйтесь найденной функцией и найдите индексы максимальных элементов в каждом столбце 2D матрицы:"
   ]
  },
  {
   "cell_type": "code",
   "execution_count": 11,
   "metadata": {},
   "outputs": [
    {
     "name": "stdout",
     "output_type": "stream",
     "text": [
      "[[11 -1  1  3  5]\n",
      " [ 6  1  0 -1 10]\n",
      " [ 1  3  2  3  6]\n",
      " [ 5  2  7  8  9]]\n",
      "[0 2 3 3 1]\n",
      "\n",
      "[2 0 1 1 0]\n"
     ]
    }
   ],
   "source": [
    "arr = np.array([\n",
    "    [11, -1, 1, 3, 5],\n",
    "    [6, 1, 0, -1, 10],\n",
    "    [1, 3, 2, 3, 6],\n",
    "    [5, 2, 7, 8, 9],\n",
    "])\n",
    "print(arr)\n",
    "\n",
    "print(np.argmax(arr, axis=0))\n",
    "print()\n",
    "print(np.argmin(arr, axis=0))"
   ]
  },
  {
   "cell_type": "markdown",
   "metadata": {},
   "source": [
    "ЗАДАНИЕ 10: Напишите код сортировки массива по столбцам:"
   ]
  },
  {
   "cell_type": "code",
   "execution_count": 8,
   "metadata": {},
   "outputs": [
    {
     "data": {
      "text/plain": [
       "array([[ 1,  2,  0, -1,  5],\n",
       "       [ 5,  2,  1,  3,  5],\n",
       "       [ 6,  2,  2,  3,  9],\n",
       "       [11,  3,  7,  8, 10]])"
      ]
     },
     "execution_count": 8,
     "metadata": {},
     "output_type": "execute_result"
    }
   ],
   "source": [
    "arr = np.array([\n",
    "    [11, 2, 1, 3, 5],\n",
    "    [6, 2, 0, -1, 10],\n",
    "    [1, 3, 2, 3, 5],\n",
    "    [5, 2, 7, 8, 9],\n",
    "    ])\n",
    "np.sort(arr, axis=0)"
   ]
  },
  {
   "cell_type": "markdown",
   "metadata": {},
   "source": [
    "ЗАДАНИЕ 11: Создайте массив, состоящий из случайных элементов в диапазоне  [−10;20]  размером  (5,7) :"
   ]
  },
  {
   "cell_type": "code",
   "execution_count": 17,
   "metadata": {},
   "outputs": [
    {
     "name": "stdout",
     "output_type": "stream",
     "text": [
      "[[10  2 17 18 15 -6  2]\n",
      " [ 7 19 12  8 -8  3 14]\n",
      " [19 11 13  3  6 -3 19]\n",
      " [ 8  3  0 19  2 -9  9]\n",
      " [ 1 10 17 -1 16 -4  1]]\n",
      "\n"
     ]
    }
   ],
   "source": [
    "y = np.random.randint(-10, 20, size=(5, 7))\n",
    "print(y)\n",
    "print()"
   ]
  },
  {
   "cell_type": "markdown",
   "metadata": {},
   "source": [
    "Добавьте границу в виде нулей со всех сторон 2D массива:"
   ]
  },
  {
   "cell_type": "code",
   "execution_count": 40,
   "metadata": {},
   "outputs": [
    {
     "name": "stdout",
     "output_type": "stream",
     "text": [
      "[[ 1  2  3  4  5]\n",
      " [ 6  7  8  9 10]\n",
      " [11 12 13 14 15]]\n",
      "[[ 0  0  0  0  0  0  0]\n",
      " [ 0  1  2  3  4  5  0]\n",
      " [ 0  6  7  8  9 10  0]\n",
      " [ 0 11 12 13 14 15  0]\n",
      " [ 0  0  0  0  0  0  0]]\n"
     ]
    }
   ],
   "source": [
    "data = np.arange(1, 16).reshape((3, 5))\n",
    "print(data)\n",
    "x = np.zeros((1,5))\n",
    "z = np.zeros((5,1))\n",
    "data_m1 = np.concatenate((x, data, x), axis=0)\n",
    "data_m2 = np.concatenate((z, data_m1, z), axis=1)\n",
    "dtype=np.int32\n",
    "data_m = np.array(data_m2, dtype=np.int32)\n",
    "print(data_m)"
   ]
  },
  {
   "cell_type": "markdown",
   "metadata": {},
   "source": [
    "Разберитесь с функцией np.clip() и произведите ограничение массива, чтобы в нем значения были не более шести и не менее двух:"
   ]
  },
  {
   "cell_type": "code",
   "execution_count": 43,
   "metadata": {},
   "outputs": [
    {
     "name": "stdout",
     "output_type": "stream",
     "text": [
      "[[ 1  2  3  4  5]\n",
      " [ 6  7  8  9 10]\n",
      " [11 12 13 14 15]]\n"
     ]
    },
    {
     "data": {
      "text/plain": [
       "array([[2, 2, 3, 4, 5],\n",
       "       [6, 6, 6, 6, 6],\n",
       "       [6, 6, 6, 6, 6]])"
      ]
     },
     "execution_count": 43,
     "metadata": {},
     "output_type": "execute_result"
    }
   ],
   "source": [
    "data = np.arange(1, 16).reshape((3, 5))\n",
    "print(data)\n",
    "np.clip(data, 2, 6)"
   ]
  },
  {
   "cell_type": "markdown",
   "metadata": {},
   "source": [
    "Произведите модификацию массива так, чтобы значение в колонке результата соответствовало исходному значению, возведенному в степень индекса колонки:"
   ]
  },
  {
   "cell_type": "code",
   "execution_count": 52,
   "metadata": {},
   "outputs": [
    {
     "name": "stdout",
     "output_type": "stream",
     "text": [
      "[[2 2 2 2 2]\n",
      " [2 2 2 2 2]\n",
      " [2 2 2 2 2]]\n",
      "\n",
      "[[ 1  2  4  8 16]\n",
      " [ 1  2  4  8 16]\n",
      " [ 1  2  4  8 16]]\n"
     ]
    }
   ],
   "source": [
    "data = np.full((3, 5), fill_value=2, dtype=np.int32)\n",
    "print(data)\n",
    "print()\n",
    "print(np.power(data, range(data.shape[1])))"
   ]
  },
  {
   "cell_type": "markdown",
   "metadata": {},
   "source": [
    "Умножьте каждую колонку на ее индекс:"
   ]
  },
  {
   "cell_type": "code",
   "execution_count": 57,
   "metadata": {},
   "outputs": [
    {
     "name": "stdout",
     "output_type": "stream",
     "text": [
      "[[2 2 2 2 2]\n",
      " [2 2 2 2 2]\n",
      " [2 2 2 2 2]]\n",
      "\n",
      "[[0 2 4 6 8]\n",
      " [0 2 4 6 8]\n",
      " [0 2 4 6 8]]\n"
     ]
    }
   ],
   "source": [
    "data = np.full((3, 5), fill_value=2, dtype=np.int32)\n",
    "print(data)\n",
    "print()\n",
    "print(np.multiply(data, range(data.shape[1])))"
   ]
  },
  {
   "cell_type": "markdown",
   "metadata": {},
   "source": [
    "Умножьте каждую колонку на ее индекс:"
   ]
  },
  {
   "cell_type": "code",
   "execution_count": 90,
   "metadata": {},
   "outputs": [
    {
     "name": "stdout",
     "output_type": "stream",
     "text": [
      "[[1 1 1 1]\n",
      " [2 2 2 2]\n",
      " [3 3 3 3]\n",
      " [4 4 4 4]\n",
      " [5 5 5 5]\n",
      " [6 6 6 6]\n",
      " [7 7 7 7]]\n",
      "\n",
      "[[ 1  2  1  2]\n",
      " [ 2  2  2  2]\n",
      " [ 3  6  3  6]\n",
      " [ 4  4  4  4]\n",
      " [ 5 10  5 10]\n",
      " [ 6  6  6  6]\n",
      " [ 7 14  7 14]]\n"
     ]
    }
   ],
   "source": [
    "data = np.repeat(np.arange(1, 8), 4).reshape(7, 4)\n",
    "vec = np.array([1, 2, 1, 2])\n",
    "data_new = np.empty_like(data)\n",
    "print(data)\n",
    "print()\n",
    "for i in list(range(data.shape[0])):\n",
    "    if i %2 == 0:\n",
    "        data_new[i, :] = np.multiply(data[i, :] , vec)\n",
    "    else:\n",
    "        data_new[i, :] = data[i, :]\n",
    "print(data_new)"
   ]
  },
  {
   "cell_type": "markdown",
   "metadata": {},
   "source": [
    "Определите индексы двух наибольших элементов в матрице по каждому ряду:"
   ]
  },
  {
   "cell_type": "code",
   "execution_count": 104,
   "metadata": {},
   "outputs": [
    {
     "name": "stdout",
     "output_type": "stream",
     "text": [
      "[[20 22  2 14 25  8]\n",
      " [ 7 25 23  3 22 15]\n",
      " [ 8 16  9 22  0  9]\n",
      " [ 4 24 24 28  3 40]]\n",
      "\n",
      "[[2 5 3 0 1 4]\n",
      " [3 0 5 4 2 1]\n",
      " [4 0 2 5 1 3]\n",
      " [4 0 1 2 3 5]]\n",
      "\n",
      "[[4 1]\n",
      " [1 2]\n",
      " [3 1]\n",
      " [5 3]]\n"
     ]
    }
   ],
   "source": [
    "data = np.array([[20, 22,  2, 14, 25,  8],\n",
    "                [ 7, 25, 23,  3, 22, 15],\n",
    "                [ 8, 16,  9, 22,  0,  9],\n",
    "                [ 4, 24, 24, 28,  3, 40]])\n",
    "print(data)\n",
    "print()\n",
    "data_new = np.argsort(data, axis = 1)\n",
    "print(data_new)\n",
    "print()\n",
    "print(data_new[:,[-1, -2]])"
   ]
  },
  {
   "cell_type": "markdown",
   "metadata": {},
   "source": [
    "Выберите две случайные колонки из массива:"
   ]
  },
  {
   "cell_type": "code",
   "execution_count": 115,
   "metadata": {},
   "outputs": [
    {
     "name": "stdout",
     "output_type": "stream",
     "text": [
      "[[20 22  2 14 25  8]\n",
      " [ 7 25 23  3 22 15]\n",
      " [ 8 16  9 22  0  9]\n",
      " [ 4 24 24 28  3 40]]\n",
      "[[ 8 22]\n",
      " [15 25]\n",
      " [ 9 16]\n",
      " [40 24]]\n"
     ]
    }
   ],
   "source": [
    "data = np.array([[20, 22,  2, 14, 25,  8],\n",
    "                [ 7, 25, 23,  3, 22, 15],\n",
    "                [ 8, 16,  9, 22,  0,  9],\n",
    "                [ 4, 24, 24, 28,  3, 40]])\n",
    "print(data)\n",
    "rnd = np.random.choice(data.shape[1], 2)\n",
    "print(data[:, [rnd[0], rnd[1]]])"
   ]
  },
  {
   "cell_type": "markdown",
   "metadata": {},
   "source": [
    "Создайте массив размером  (10,3) , который состоит из повторяющихся рядов исходного массива:"
   ]
  },
  {
   "cell_type": "code",
   "execution_count": 147,
   "metadata": {},
   "outputs": [
    {
     "name": "stdout",
     "output_type": "stream",
     "text": [
      "[[0 1 2]\n",
      " [3 4 5]\n",
      " [6 7 8]]\n",
      "\n",
      "[1 0 1 2 0 0 1 2 1 0]\n",
      "\n",
      "[[3 4 5]\n",
      " [0 1 2]\n",
      " [3 4 5]\n",
      " [6 7 8]\n",
      " [0 1 2]\n",
      " [0 1 2]\n",
      " [3 4 5]\n",
      " [6 7 8]\n",
      " [3 4 5]\n",
      " [0 1 2]]\n"
     ]
    },
    {
     "data": {
      "text/plain": [
       "(10, 3)"
      ]
     },
     "execution_count": 147,
     "metadata": {},
     "output_type": "execute_result"
    }
   ],
   "source": [
    "data = np.arange(9).reshape(3, 3)\n",
    "print(data)\n",
    "print()\n",
    "rnd = np.random.choice(data.shape[0], 10)\n",
    "print(rnd)\n",
    "print()\n",
    "for i in list(range(10)):\n",
    "    new_data[i,:] = data[[rnd[i]], :]\n",
    "print(new_data)\n",
    "new_data.shape"
   ]
  },
  {
   "cell_type": "markdown",
   "metadata": {},
   "source": [
    "Соберите массив, состоящий из элементов 2й и 4й колонок и строк с 1й по 3ю:"
   ]
  },
  {
   "cell_type": "code",
   "execution_count": 151,
   "metadata": {},
   "outputs": [
    {
     "name": "stdout",
     "output_type": "stream",
     "text": [
      "[[20 22  2 14 25  8]\n",
      " [ 7 25 23  3 22 15]\n",
      " [ 8 16  9 22  0  9]\n",
      " [14  9 33 21  7  6]\n",
      " [ 4 24 24 28  3 40]]\n",
      "\n",
      "[[23 22]\n",
      " [ 9  0]\n",
      " [33  7]]\n"
     ]
    }
   ],
   "source": [
    "data = np.array([[20, 22,  2, 14, 25,  8],\n",
    "                [ 7, 25, 23,  3, 22, 15],\n",
    "                [ 8, 16,  9, 22,  0,  9],\n",
    "                [ 14, 9,  33, 21,  7,  6],\n",
    "                [ 4, 24, 24, 28,  3, 40]])\n",
    "print(data)\n",
    "print()\n",
    "print(data[1:4, (2,4)])"
   ]
  },
  {
   "cell_type": "markdown",
   "metadata": {},
   "source": [
    "Инвертируйте порядок элементов в последних двух колонках:"
   ]
  },
  {
   "cell_type": "code",
   "execution_count": 155,
   "metadata": {},
   "outputs": [
    {
     "name": "stdout",
     "output_type": "stream",
     "text": [
      "[[20 22  2 14 25  8]\n",
      " [ 7 25 23  3 22 15]\n",
      " [ 8 16  9 22  0  9]\n",
      " [14  9 33 21  7  6]\n",
      " [ 4 24 24 28  3 40]]\n",
      "\n",
      "[[20 22  2 14  3 40]\n",
      " [ 7 25 23  3  7  6]\n",
      " [ 8 16  9 22  0  9]\n",
      " [14  9 33 21 22 15]\n",
      " [ 4 24 24 28 25  8]]\n"
     ]
    }
   ],
   "source": [
    "data = np.array([[20, 22,  2, 14, 25,  8],\n",
    "                [ 7, 25, 23,  3, 22, 15],\n",
    "                [ 8, 16,  9, 22,  0,  9],\n",
    "                [ 14, 9,  33, 21,  7,  6],\n",
    "                [ 4, 24, 24, 28,  3, 40]])\n",
    "print(data)\n",
    "print()\n",
    "data[:,(-2, -1)] = data[::-1, (-2, -1)]\n",
    "print(data)"
   ]
  },
  {
   "cell_type": "code",
   "execution_count": null,
   "metadata": {},
   "outputs": [],
   "source": []
  }
 ],
 "metadata": {
  "kernelspec": {
   "display_name": "Python 3",
   "language": "python",
   "name": "python3"
  },
  "language_info": {
   "codemirror_mode": {
    "name": "ipython",
    "version": 3
   },
   "file_extension": ".py",
   "mimetype": "text/x-python",
   "name": "python",
   "nbconvert_exporter": "python",
   "pygments_lexer": "ipython3",
   "version": "3.8.5"
  }
 },
 "nbformat": 4,
 "nbformat_minor": 4
}
