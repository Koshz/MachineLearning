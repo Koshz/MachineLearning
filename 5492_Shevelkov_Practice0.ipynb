{
 "cells": [
  {
   "cell_type": "markdown",
   "metadata": {},
   "source": [
    "ЗАДАНИЕ 1: Выведите справку по команде numpy.linspace() в ячейке ниже."
   ]
  },
  {
   "cell_type": "markdown",
   "metadata": {},
   "source": [
    "Тут numpy заменяется на np после присвоения."
   ]
  },
  {
   "cell_type": "code",
   "execution_count": 5,
   "metadata": {},
   "outputs": [
    {
     "data": {
      "text/plain": [
       "\u001b[1;31mSignature:\u001b[0m\n",
       "\u001b[0mnp\u001b[0m\u001b[1;33m.\u001b[0m\u001b[0mlinspace\u001b[0m\u001b[1;33m(\u001b[0m\u001b[1;33m\n",
       "\u001b[0m    \u001b[0mstart\u001b[0m\u001b[1;33m,\u001b[0m\u001b[1;33m\n",
       "\u001b[0m    \u001b[0mstop\u001b[0m\u001b[1;33m,\u001b[0m\u001b[1;33m\n",
       "\u001b[0m    \u001b[0mnum\u001b[0m\u001b[1;33m=\u001b[0m\u001b[1;36m50\u001b[0m\u001b[1;33m,\u001b[0m\u001b[1;33m\n",
       "\u001b[0m    \u001b[0mendpoint\u001b[0m\u001b[1;33m=\u001b[0m\u001b[1;32mTrue\u001b[0m\u001b[1;33m,\u001b[0m\u001b[1;33m\n",
       "\u001b[0m    \u001b[0mretstep\u001b[0m\u001b[1;33m=\u001b[0m\u001b[1;32mFalse\u001b[0m\u001b[1;33m,\u001b[0m\u001b[1;33m\n",
       "\u001b[0m    \u001b[0mdtype\u001b[0m\u001b[1;33m=\u001b[0m\u001b[1;32mNone\u001b[0m\u001b[1;33m,\u001b[0m\u001b[1;33m\n",
       "\u001b[0m    \u001b[0maxis\u001b[0m\u001b[1;33m=\u001b[0m\u001b[1;36m0\u001b[0m\u001b[1;33m,\u001b[0m\u001b[1;33m\n",
       "\u001b[0m\u001b[1;33m)\u001b[0m\u001b[1;33m\u001b[0m\u001b[1;33m\u001b[0m\u001b[0m\n",
       "\u001b[1;31mDocstring:\u001b[0m\n",
       "Return evenly spaced numbers over a specified interval.\n",
       "\n",
       "Returns `num` evenly spaced samples, calculated over the\n",
       "interval [`start`, `stop`].\n",
       "\n",
       "The endpoint of the interval can optionally be excluded.\n",
       "\n",
       ".. versionchanged:: 1.16.0\n",
       "    Non-scalar `start` and `stop` are now supported.\n",
       "\n",
       "Parameters\n",
       "----------\n",
       "start : array_like\n",
       "    The starting value of the sequence.\n",
       "stop : array_like\n",
       "    The end value of the sequence, unless `endpoint` is set to False.\n",
       "    In that case, the sequence consists of all but the last of ``num + 1``\n",
       "    evenly spaced samples, so that `stop` is excluded.  Note that the step\n",
       "    size changes when `endpoint` is False.\n",
       "num : int, optional\n",
       "    Number of samples to generate. Default is 50. Must be non-negative.\n",
       "endpoint : bool, optional\n",
       "    If True, `stop` is the last sample. Otherwise, it is not included.\n",
       "    Default is True.\n",
       "retstep : bool, optional\n",
       "    If True, return (`samples`, `step`), where `step` is the spacing\n",
       "    between samples.\n",
       "dtype : dtype, optional\n",
       "    The type of the output array.  If `dtype` is not given, infer the data\n",
       "    type from the other input arguments.\n",
       "\n",
       "    .. versionadded:: 1.9.0\n",
       "\n",
       "axis : int, optional\n",
       "    The axis in the result to store the samples.  Relevant only if start\n",
       "    or stop are array-like.  By default (0), the samples will be along a\n",
       "    new axis inserted at the beginning. Use -1 to get an axis at the end.\n",
       "\n",
       "    .. versionadded:: 1.16.0\n",
       "\n",
       "Returns\n",
       "-------\n",
       "samples : ndarray\n",
       "    There are `num` equally spaced samples in the closed interval\n",
       "    ``[start, stop]`` or the half-open interval ``[start, stop)``\n",
       "    (depending on whether `endpoint` is True or False).\n",
       "step : float, optional\n",
       "    Only returned if `retstep` is True\n",
       "\n",
       "    Size of spacing between samples.\n",
       "\n",
       "\n",
       "See Also\n",
       "--------\n",
       "arange : Similar to `linspace`, but uses a step size (instead of the\n",
       "         number of samples).\n",
       "geomspace : Similar to `linspace`, but with numbers spaced evenly on a log\n",
       "            scale (a geometric progression).\n",
       "logspace : Similar to `geomspace`, but with the end points specified as\n",
       "           logarithms.\n",
       "\n",
       "Examples\n",
       "--------\n",
       ">>> np.linspace(2.0, 3.0, num=5)\n",
       "array([2.  , 2.25, 2.5 , 2.75, 3.  ])\n",
       ">>> np.linspace(2.0, 3.0, num=5, endpoint=False)\n",
       "array([2. ,  2.2,  2.4,  2.6,  2.8])\n",
       ">>> np.linspace(2.0, 3.0, num=5, retstep=True)\n",
       "(array([2.  ,  2.25,  2.5 ,  2.75,  3.  ]), 0.25)\n",
       "\n",
       "Graphical illustration:\n",
       "\n",
       ">>> import matplotlib.pyplot as plt\n",
       ">>> N = 8\n",
       ">>> y = np.zeros(N)\n",
       ">>> x1 = np.linspace(0, 10, N, endpoint=True)\n",
       ">>> x2 = np.linspace(0, 10, N, endpoint=False)\n",
       ">>> plt.plot(x1, y, 'o')\n",
       "[<matplotlib.lines.Line2D object at 0x...>]\n",
       ">>> plt.plot(x2, y + 0.5, 'o')\n",
       "[<matplotlib.lines.Line2D object at 0x...>]\n",
       ">>> plt.ylim([-0.5, 1])\n",
       "(-0.5, 1)\n",
       ">>> plt.show()\n",
       "\u001b[1;31mFile:\u001b[0m      c:\\users\\obabo\\appdata\\local\\programs\\python\\python38\\lib\\site-packages\\numpy\\core\\function_base.py\n",
       "\u001b[1;31mType:\u001b[0m      function\n"
      ]
     },
     "metadata": {},
     "output_type": "display_data"
    }
   ],
   "source": [
    "np.linspace?"
   ]
  },
  {
   "cell_type": "markdown",
   "metadata": {},
   "source": [
    "LINE SECTION:"
   ]
  },
  {
   "cell_type": "code",
   "execution_count": 21,
   "metadata": {},
   "outputs": [],
   "source": [
    "var_list = [1, '111']"
   ]
  },
  {
   "cell_type": "code",
   "execution_count": 4,
   "metadata": {},
   "outputs": [
    {
     "data": {
      "text/plain": [
       "'111'"
      ]
     },
     "execution_count": 4,
     "metadata": {},
     "output_type": "execute_result"
    }
   ],
   "source": [
    "var_list[1]"
   ]
  },
  {
   "cell_type": "code",
   "execution_count": 5,
   "metadata": {},
   "outputs": [
    {
     "data": {
      "text/plain": [
       "[501, '111']"
      ]
     },
     "execution_count": 5,
     "metadata": {},
     "output_type": "execute_result"
    }
   ],
   "source": [
    "var_list[0] = 501\n",
    "var_list"
   ]
  },
  {
   "cell_type": "code",
   "execution_count": 6,
   "metadata": {},
   "outputs": [
    {
     "data": {
      "text/plain": [
       "1"
      ]
     },
     "execution_count": 6,
     "metadata": {},
     "output_type": "execute_result"
    }
   ],
   "source": [
    "var_list.index('111')"
   ]
  },
  {
   "cell_type": "markdown",
   "metadata": {},
   "source": [
    "ЗАДАНИЕ 2: Посмотрите, что будет, если записать по индексу [1] любое значение."
   ]
  },
  {
   "cell_type": "code",
   "execution_count": 7,
   "metadata": {},
   "outputs": [],
   "source": [
    "var_list[1] = 1337"
   ]
  },
  {
   "cell_type": "code",
   "execution_count": 9,
   "metadata": {},
   "outputs": [
    {
     "data": {
      "text/plain": [
       "1"
      ]
     },
     "execution_count": 9,
     "metadata": {},
     "output_type": "execute_result"
    }
   ],
   "source": [
    "var_list.index(1337)"
   ]
  },
  {
   "cell_type": "code",
   "execution_count": 20,
   "metadata": {},
   "outputs": [
    {
     "ename": "ValueError",
     "evalue": "9001 is not in list",
     "output_type": "error",
     "traceback": [
      "\u001b[1;31m---------------------------------------------------------------------------\u001b[0m",
      "\u001b[1;31mValueError\u001b[0m                                Traceback (most recent call last)",
      "\u001b[1;32m<ipython-input-20-f8927bef33f3>\u001b[0m in \u001b[0;36m<module>\u001b[1;34m\u001b[0m\n\u001b[1;32m----> 1\u001b[1;33m \u001b[0mvar_list\u001b[0m\u001b[1;33m.\u001b[0m\u001b[0mindex\u001b[0m\u001b[1;33m(\u001b[0m\u001b[1;36m9001\u001b[0m\u001b[1;33m)\u001b[0m\u001b[1;33m\u001b[0m\u001b[1;33m\u001b[0m\u001b[0m\n\u001b[0m",
      "\u001b[1;31mValueError\u001b[0m: 9001 is not in list"
     ]
    }
   ],
   "source": [
    "var_list.index(9001)"
   ]
  },
  {
   "cell_type": "markdown",
   "metadata": {},
   "source": [
    "ValueError: 9001 is not in list"
   ]
  },
  {
   "cell_type": "code",
   "execution_count": 15,
   "metadata": {},
   "outputs": [],
   "source": [
    "var_list.append(9000)"
   ]
  },
  {
   "cell_type": "code",
   "execution_count": 17,
   "metadata": {},
   "outputs": [
    {
     "data": {
      "text/plain": [
       "[501, 1337, 9000]"
      ]
     },
     "execution_count": 17,
     "metadata": {},
     "output_type": "execute_result"
    }
   ],
   "source": [
    "var_list"
   ]
  },
  {
   "cell_type": "markdown",
   "metadata": {},
   "source": [
    "TUPLE SECTION:"
   ]
  },
  {
   "cell_type": "code",
   "execution_count": 22,
   "metadata": {},
   "outputs": [],
   "source": [
    "var_tuple = (1, '111', 'hey')"
   ]
  },
  {
   "cell_type": "markdown",
   "metadata": {},
   "source": [
    "ЗАДАНИЕ 3: Посмотрите, что будет, если записать по индексу [1] любое значение."
   ]
  },
  {
   "cell_type": "code",
   "execution_count": 23,
   "metadata": {},
   "outputs": [
    {
     "ename": "TypeError",
     "evalue": "'tuple' object does not support item assignment",
     "output_type": "error",
     "traceback": [
      "\u001b[1;31m---------------------------------------------------------------------------\u001b[0m",
      "\u001b[1;31mTypeError\u001b[0m                                 Traceback (most recent call last)",
      "\u001b[1;32m<ipython-input-23-e3345bf7d270>\u001b[0m in \u001b[0;36m<module>\u001b[1;34m\u001b[0m\n\u001b[1;32m----> 1\u001b[1;33m \u001b[0mvar_tuple\u001b[0m\u001b[1;33m[\u001b[0m\u001b[1;36m1\u001b[0m\u001b[1;33m]\u001b[0m \u001b[1;33m=\u001b[0m \u001b[1;33m(\u001b[0m\u001b[1;34m'339'\u001b[0m\u001b[1;33m)\u001b[0m\u001b[1;33m\u001b[0m\u001b[1;33m\u001b[0m\u001b[0m\n\u001b[0m",
      "\u001b[1;31mTypeError\u001b[0m: 'tuple' object does not support item assignment"
     ]
    }
   ],
   "source": [
    "var_tuple[1] = ('339')"
   ]
  },
  {
   "cell_type": "markdown",
   "metadata": {},
   "source": [
    "TypeError: 'tuple' object does not support item assignment"
   ]
  },
  {
   "cell_type": "markdown",
   "metadata": {},
   "source": [
    "DICT SECTION:"
   ]
  },
  {
   "cell_type": "code",
   "execution_count": 24,
   "metadata": {},
   "outputs": [],
   "source": [
    "var_dict = {\n",
    "    'string_key': 'string_value',\n",
    "    1: 'oh, integer key?'\n",
    "}"
   ]
  },
  {
   "cell_type": "code",
   "execution_count": 25,
   "metadata": {},
   "outputs": [
    {
     "data": {
      "text/plain": [
       "'string_value'"
      ]
     },
     "execution_count": 25,
     "metadata": {},
     "output_type": "execute_result"
    }
   ],
   "source": [
    "var_dict['string_key']"
   ]
  },
  {
   "cell_type": "code",
   "execution_count": 26,
   "metadata": {},
   "outputs": [
    {
     "data": {
      "text/plain": [
       "{'string_key': 'string_value', 1: 'oh, integer key?', 'new_key': 'new_value'}"
      ]
     },
     "execution_count": 26,
     "metadata": {},
     "output_type": "execute_result"
    }
   ],
   "source": [
    "var_dict['new_key'] = 'new_value'\n",
    "var_dict"
   ]
  },
  {
   "cell_type": "markdown",
   "metadata": {},
   "source": [
    "ЗАДАНИЕ 4: Попробуйте создать новый словарь new_dict с другими парами ключ-значение и воспользуйтесь функцией var_dict.update(new_dict) (мы передаем новый словарь как аргумент функции). Посмотрите, что поменялось в обоих словарях."
   ]
  },
  {
   "cell_type": "code",
   "execution_count": 31,
   "metadata": {},
   "outputs": [],
   "source": [
    "new_dict = {\n",
    "    'omega' : 'w',\n",
    "    30 : 'тридцать'\n",
    "}"
   ]
  },
  {
   "cell_type": "code",
   "execution_count": 32,
   "metadata": {},
   "outputs": [],
   "source": [
    "var_dict.update(new_dict)"
   ]
  },
  {
   "cell_type": "code",
   "execution_count": 33,
   "metadata": {},
   "outputs": [
    {
     "data": {
      "text/plain": [
       "{'string_key': 'string_value',\n",
       " 1: 'oh, integer key?',\n",
       " 'new_key': 'new_value',\n",
       " 'omega': 'w',\n",
       " 30: 'тридцать'}"
      ]
     },
     "execution_count": 33,
     "metadata": {},
     "output_type": "execute_result"
    }
   ],
   "source": [
    "var_dict"
   ]
  },
  {
   "cell_type": "code",
   "execution_count": 34,
   "metadata": {},
   "outputs": [
    {
     "data": {
      "text/plain": [
       "{'omega': 'w', 30: 'тридцать'}"
      ]
     },
     "execution_count": 34,
     "metadata": {},
     "output_type": "execute_result"
    }
   ],
   "source": [
    "new_dict"
   ]
  },
  {
   "cell_type": "markdown",
   "metadata": {},
   "source": [
    "var_dict дополнился терминами из словаря new_dict. new_dict же остался исходным."
   ]
  },
  {
   "cell_type": "code",
   "execution_count": null,
   "metadata": {},
   "outputs": [],
   "source": [
    "SET SECTION:"
   ]
  },
  {
   "cell_type": "code",
   "execution_count": 35,
   "metadata": {},
   "outputs": [],
   "source": [
    "var_set = {\n",
    "    'no, keys',\n",
    "    'only unique values!'\n",
    "}"
   ]
  },
  {
   "cell_type": "markdown",
   "metadata": {},
   "source": [
    "ЗАДАНИЕ 5: Создайте свое множество new_set и с помощью операторов \"|\" и \"&\" получите объединение и пересечение множеств. Выведите результаты."
   ]
  },
  {
   "cell_type": "code",
   "execution_count": 36,
   "metadata": {},
   "outputs": [],
   "source": [
    "new_set = {\n",
    "    'man', 'woman'\n",
    "}"
   ]
  },
  {
   "cell_type": "code",
   "execution_count": 37,
   "metadata": {},
   "outputs": [
    {
     "data": {
      "text/plain": [
       "{'man', 'no, keys', 'only unique values!', 'woman'}"
      ]
     },
     "execution_count": 37,
     "metadata": {},
     "output_type": "execute_result"
    }
   ],
   "source": [
    "var_set | new_set"
   ]
  },
  {
   "cell_type": "code",
   "execution_count": 38,
   "metadata": {},
   "outputs": [
    {
     "data": {
      "text/plain": [
       "set()"
      ]
     },
     "execution_count": 38,
     "metadata": {},
     "output_type": "execute_result"
    }
   ],
   "source": [
    "var_set & new_set"
   ]
  },
  {
   "cell_type": "markdown",
   "metadata": {},
   "source": [
    "CYCLE SECTION:"
   ]
  },
  {
   "cell_type": "code",
   "execution_count": 39,
   "metadata": {},
   "outputs": [
    {
     "name": "stdout",
     "output_type": "stream",
     "text": [
      "0\n",
      "1\n",
      "2\n",
      "3\n",
      "4\n",
      "5\n",
      "6\n",
      "7\n",
      "8\n",
      "9\n"
     ]
    }
   ],
   "source": [
    "iter = 0\n",
    "while iter < 10:\n",
    "    print(iter)\n",
    "    # Python не имеет операций инкремента/декремента (++/--)\n",
    "    iter += 1"
   ]
  },
  {
   "cell_type": "code",
   "execution_count": 40,
   "metadata": {},
   "outputs": [
    {
     "name": "stdout",
     "output_type": "stream",
     "text": [
      "0\n",
      "1\n",
      "2\n",
      "3\n",
      "4\n",
      "5\n",
      "6\n",
      "7\n",
      "8\n",
      "9\n"
     ]
    }
   ],
   "source": [
    "for iter in range(10):\n",
    "    print(iter)"
   ]
  },
  {
   "cell_type": "markdown",
   "metadata": {},
   "source": [
    "ЗАДАНИЕ 6: Закрепим, создайте свой список и выполните проход по нему с помощью цикла for."
   ]
  },
  {
   "cell_type": "code",
   "execution_count": 59,
   "metadata": {},
   "outputs": [],
   "source": [
    "#Здесь я полагал, что под списком имеется ввиду list.\n",
    "#Возможно, стоит заменить слово \"список\" на \"последовательность\" для будущих студентов\n",
    "#EPL_TOP10 = ['LEI', 'TOT', 'LIV', 'SOU', 'CHE', 'AST', 'EVE', 'CRY', 'WOL', 'MCI']\n",
    "#RndNumbers = [875, 228, 339, 440, 551, 662, 773, 884, 995, 1006]"
   ]
  },
  {
   "cell_type": "markdown",
   "metadata": {},
   "source": [
    "В итоге для последовательности:"
   ]
  },
  {
   "cell_type": "code",
   "execution_count": 67,
   "metadata": {},
   "outputs": [
    {
     "name": "stdout",
     "output_type": "stream",
     "text": [
      "20\n",
      "21\n",
      "22\n",
      "23\n",
      "24\n",
      "25\n",
      "26\n"
     ]
    }
   ],
   "source": [
    "for iter in range(20, 27):\n",
    "    print(iter)"
   ]
  },
  {
   "cell_type": "markdown",
   "metadata": {},
   "source": [
    "Дошло как сделать для списка:"
   ]
  },
  {
   "cell_type": "code",
   "execution_count": 73,
   "metadata": {},
   "outputs": [
    {
     "name": "stdout",
     "output_type": "stream",
     "text": [
      "Таблица текущего положения команд АПЛ:\n",
      "1 LEI\n",
      "2 TOT\n",
      "3 LIV\n",
      "4 SOU\n",
      "5 CHE\n",
      "6 AST\n",
      "7 EVE\n",
      "8 CRY\n",
      "9 WOL\n",
      "10 MCI\n"
     ]
    }
   ],
   "source": [
    "pos = 1\n",
    "print('Таблица текущего положения команд АПЛ:')\n",
    "for i in EPL_TOP10:\n",
    "    print(pos, i)\n",
    "    pos += 1"
   ]
  },
  {
   "cell_type": "markdown",
   "metadata": {},
   "source": [
    "FUNCTION SECTION:"
   ]
  },
  {
   "cell_type": "code",
   "execution_count": 74,
   "metadata": {},
   "outputs": [],
   "source": [
    "def summation(a, b):\n",
    "    return a + b"
   ]
  },
  {
   "cell_type": "code",
   "execution_count": 75,
   "metadata": {},
   "outputs": [],
   "source": [
    "result = summation(1, 4)"
   ]
  },
  {
   "cell_type": "code",
   "execution_count": 76,
   "metadata": {},
   "outputs": [
    {
     "data": {
      "text/plain": [
       "5"
      ]
     },
     "execution_count": 76,
     "metadata": {},
     "output_type": "execute_result"
    }
   ],
   "source": [
    "result"
   ]
  },
  {
   "cell_type": "code",
   "execution_count": null,
   "metadata": {},
   "outputs": [],
   "source": [
    "ЗАДАНИЕ 7: Напишите функцию для вычисления периметра прямоугольника. \n",
    "В качестве аргументов передайте стороны прямоугольника."
   ]
  },
  {
   "cell_type": "code",
   "execution_count": 78,
   "metadata": {},
   "outputs": [],
   "source": [
    "def rectangleP(a, b):\n",
    "    return 2*(a+b)"
   ]
  },
  {
   "cell_type": "code",
   "execution_count": 81,
   "metadata": {},
   "outputs": [],
   "source": [
    "Perimeter = rectangleP(5, 6)"
   ]
  },
  {
   "cell_type": "code",
   "execution_count": 82,
   "metadata": {},
   "outputs": [
    {
     "data": {
      "text/plain": [
       "22"
      ]
     },
     "execution_count": 82,
     "metadata": {},
     "output_type": "execute_result"
    }
   ],
   "source": [
    "Perimeter"
   ]
  },
  {
   "cell_type": "markdown",
   "metadata": {},
   "source": [
    "CLASS AND OBJECTS SECTION:"
   ]
  },
  {
   "cell_type": "code",
   "execution_count": 83,
   "metadata": {},
   "outputs": [],
   "source": [
    "class MyClass:\n",
    "    def __init__(self, value):\n",
    "        self.member_var = value\n",
    "    \n",
    "    def sample_method(self):\n",
    "        print(f'sample_method() called with {self.member_var}')"
   ]
  },
  {
   "cell_type": "code",
   "execution_count": 84,
   "metadata": {},
   "outputs": [
    {
     "name": "stdout",
     "output_type": "stream",
     "text": [
      "sample_method() called with 10\n",
      "sample_method() called with 20\n",
      "----- After modification -----\n",
      "sample_method() called with 11\n"
     ]
    }
   ],
   "source": [
    "my_object_1 = MyClass(10)\n",
    "my_object_2 = MyClass(20)\n",
    "\n",
    "my_object_1.sample_method()\n",
    "my_object_2.sample_method()\n",
    "\n",
    "# Обратимся к члену класса member_var конкретного объекта, модифицируем и выведем еще раз\n",
    "my_object_1.member_var = 11\n",
    "print('----- After modification -----')\n",
    "my_object_1.sample_method()"
   ]
  },
  {
   "cell_type": "code",
   "execution_count": 85,
   "metadata": {},
   "outputs": [
    {
     "data": {
      "text/plain": [
       "[1, 2, 3, 10]"
      ]
     },
     "execution_count": 85,
     "metadata": {},
     "output_type": "execute_result"
    }
   ],
   "source": [
    "sample_list = list([1, 2, 3])\n",
    "# То же самое: sample_list = [1, 2, 3]\n",
    "\n",
    "sample_list.append(10)\n",
    "\n",
    "sample_list"
   ]
  },
  {
   "cell_type": "markdown",
   "metadata": {},
   "source": [
    "ЗАДАНИЕ 8: Напишите класс без конструктора (так можно, у него будет конструктор по-умолчанию) с методом, который на вход принимает число x и производит вычисления по формуле:  2∗e^x \n",
    "\n",
    "Для вычисления степени экспоненты воспользуйтесь функцией exp() модуля math.\n",
    "\n",
    "Выведите в цикле значения метода при целочисленных аргументах от 4 до 12 с использованием новой функции."
   ]
  },
  {
   "cell_type": "code",
   "execution_count": 112,
   "metadata": {},
   "outputs": [],
   "source": [
    "import math\n",
    "class MathExpressions:\n",
    "    def method(self, x):\n",
    "        return 2*math.exp(x)"
   ]
  },
  {
   "cell_type": "code",
   "execution_count": 113,
   "metadata": {},
   "outputs": [],
   "source": [
    "mathExp = MathExpressions()"
   ]
  },
  {
   "cell_type": "code",
   "execution_count": 114,
   "metadata": {},
   "outputs": [
    {
     "data": {
      "text/plain": [
       "109.19630006628847"
      ]
     },
     "execution_count": 114,
     "metadata": {},
     "output_type": "execute_result"
    }
   ],
   "source": [
    "mathExp.method(4)"
   ]
  },
  {
   "cell_type": "code",
   "execution_count": 116,
   "metadata": {},
   "outputs": [
    {
     "name": "stdout",
     "output_type": "stream",
     "text": [
      "109.19630006628847\n",
      "296.8263182051532\n",
      "806.8575869854702\n",
      "2193.266316856917\n",
      "5961.915974083457\n",
      "16206.167855150768\n",
      "44052.931589613436\n",
      "119748.28343039563\n"
     ]
    }
   ],
   "source": [
    "for x in range(4, 12):\n",
    "    print(mathExp.method(x))"
   ]
  },
  {
   "cell_type": "markdown",
   "metadata": {},
   "source": [
    "FORMATTED STRINGS SECTION:"
   ]
  },
  {
   "cell_type": "code",
   "execution_count": 117,
   "metadata": {},
   "outputs": [],
   "source": [
    "name = 'Юзер'\n",
    "age = 30"
   ]
  },
  {
   "cell_type": "code",
   "execution_count": 118,
   "metadata": {},
   "outputs": [
    {
     "name": "stdout",
     "output_type": "stream",
     "text": [
      "Привет, меня зовут Юзер и мне 30\n"
     ]
    }
   ],
   "source": [
    "template_string = 'Привет, меня зовут %s и мне %d'\n",
    "formatted_string = template_string % (name, age)\n",
    "print(formatted_string)"
   ]
  },
  {
   "cell_type": "code",
   "execution_count": 119,
   "metadata": {},
   "outputs": [
    {
     "name": "stdout",
     "output_type": "stream",
     "text": [
      "Сравним 0.333333, 0.33, 0.3\n"
     ]
    }
   ],
   "source": [
    "# Для %f можно задать количество цифр после запятой\n",
    "var = 0.33333333\n",
    "print('Сравним %f, %.2f, %.1f' % (var, var, var))"
   ]
  },
  {
   "cell_type": "code",
   "execution_count": 120,
   "metadata": {},
   "outputs": [
    {
     "name": "stdout",
     "output_type": "stream",
     "text": [
      "Привет, меня зовут Юзер и мне 30\n"
     ]
    }
   ],
   "source": [
    "print('Привет, меня зовут {} и мне {}'.format(name, age))"
   ]
  },
  {
   "cell_type": "code",
   "execution_count": 121,
   "metadata": {},
   "outputs": [
    {
     "name": "stdout",
     "output_type": "stream",
     "text": [
      "Сравним 0.444444444, 0.44, 0.4\n"
     ]
    }
   ],
   "source": [
    "var = 0.444444444\n",
    "print('Сравним {}, {:.2f}, {:.1f}'.format(var, var, var))"
   ]
  },
  {
   "cell_type": "code",
   "execution_count": 122,
   "metadata": {},
   "outputs": [
    {
     "name": "stdout",
     "output_type": "stream",
     "text": [
      "Привет, меня зовут Юзер и мне 30\n"
     ]
    }
   ],
   "source": [
    "print(f'Привет, меня зовут {name} и мне {age}')"
   ]
  },
  {
   "cell_type": "code",
   "execution_count": 123,
   "metadata": {},
   "outputs": [
    {
     "name": "stdout",
     "output_type": "stream",
     "text": [
      "Сравним 0.173456, 0.17, 0.2\n"
     ]
    }
   ],
   "source": [
    "# Обратите внимание на округление!\n",
    "var = 0.173456\n",
    "print(f'Сравним {var}, {var:.2f}, {var:.1f}')"
   ]
  },
  {
   "cell_type": "markdown",
   "metadata": {},
   "source": [
    "ЗАДАНИЕ 9: Напишите функцию, которая принимает имя, возраст и среднюю оценку в качестве аргументов и отображает данные тремя способами, рассмотренными ранее, в виде строк.\n",
    "\n",
    "Добрый день! Мое имя: <name>, возраст: <age>, оценка: <avg_grade>. Приятно познакомиться!\n",
    "Средняя оценка должна отображаться не более, чем с двумя символами после запятой."
   ]
  },
  {
   "cell_type": "code",
   "execution_count": 128,
   "metadata": {},
   "outputs": [],
   "source": [
    "def show_info(name, age, avg_grade):\n",
    "    template_string = 'Добрый день! Мое имя: %s, возраст: %d, оценка: %.2f. Приятно познакомиться!'\n",
    "    formatted_string = template_string % (name, age, avg_grade)\n",
    "    print(formatted_string)\n",
    "    \n",
    "    print('Добрый день! Мое имя: {}, возраст: {}, оценка: {}. Приятно познакомиться!'.format(name, age, avg_grade))\n",
    "    \n",
    "    print(f'Добрый день! Мое имя: {name}, возраст: {age}, оценка: {avg_grade}. Приятно познакомиться!')"
   ]
  },
  {
   "cell_type": "code",
   "execution_count": 129,
   "metadata": {},
   "outputs": [
    {
     "name": "stdout",
     "output_type": "stream",
     "text": [
      "Добрый день! Мое имя: Борис, возраст: 23, оценка: 2.51. Приятно познакомиться!\n",
      "Добрый день! Мое имя: Борис, возраст: 23, оценка: 2.51. Приятно познакомиться!\n",
      "Добрый день! Мое имя: Борис, возраст: 23, оценка: 2.51. Приятно познакомиться!\n"
     ]
    }
   ],
   "source": [
    "show_info('Борис', 23, 2.51)"
   ]
  }
 ],
 "metadata": {
  "kernelspec": {
   "display_name": "Python 3",
   "language": "python",
   "name": "python3"
  },
  "language_info": {
   "codemirror_mode": {
    "name": "ipython",
    "version": 3
   },
   "file_extension": ".py",
   "mimetype": "text/x-python",
   "name": "python",
   "nbconvert_exporter": "python",
   "pygments_lexer": "ipython3",
   "version": "3.8.5"
  }
 },
 "nbformat": 4,
 "nbformat_minor": 4
}
